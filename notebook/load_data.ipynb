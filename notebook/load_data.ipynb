{
 "cells": [
  {
   "cell_type": "markdown",
   "metadata": {},
   "source": [
    "# 注意事項\n",
    "- notebookと同じディレクトリにannotation_koma_mergeを配置\n",
    "- 駒の種類ごとに，train:test = 7:3 に分割"
   ]
  },
  {
   "cell_type": "code",
   "execution_count": 1,
   "metadata": {
    "collapsed": true
   },
   "outputs": [],
   "source": [
    "import numpy as np\n",
    "import pickle\n",
    "import glob\n",
    "from sklearn.model_selection import train_test_split\n",
    "from sklearn.utils import shuffle\n",
    "from zipfile import ZipFile\n",
    "import os\n",
    "\n",
    "from PIL import Image\n",
    "import matplotlib.pyplot as plt\n",
    "# plt.style.use('dark_background') # jupyterの背景を黒くしている場合， 混同行列などの軸ラベルが見やすくなる．\n",
    "% matplotlib inline"
   ]
  },
  {
   "cell_type": "markdown",
   "metadata": {},
   "source": [
    "## データ数の分布の確認"
   ]
  },
  {
   "cell_type": "code",
   "execution_count": 2,
   "metadata": {
    "scrolled": false
   },
   "outputs": [
    {
     "data": {
      "text/plain": [
       "<Container object of 14 artists>"
      ]
     },
     "execution_count": 2,
     "metadata": {},
     "output_type": "execute_result"
    },
    {
     "data": {
      "image/png": "[encoded data removed]",
      "text/plain": [
       "<matplotlib.figure.Figure at 0x102e8fbe0>"
      ]
     },
     "metadata": {},
     "output_type": "display_data"
    }
   ],
   "source": [
    "# 画像が存在するディレクトリ\n",
    "img_dir = \"../dataset/image/annotation_koma_merge/\"\n",
    "\n",
    "# 駒の種類\n",
    "class_names = [\"fu\", \"gin\", \"hisya\", \"kaku\", \"kei\", \"kin\", \"kyo\", \"narigin\", \"narikei\", \"narikyo\", \"ou\", \"ryu\", \"to\", \"uma\"]\n",
    "\n",
    "# 駒の種類ごとの画像数を格納\n",
    "counts= []\n",
    "\n",
    "for _, class_name  in enumerate(class_names):\n",
    "    # データ数を格納\n",
    "    count = len(glob.glob(img_dir + class_name + \"/*\"))\n",
    "    counts.append(count)\n",
    "\n",
    "plt.figure(figsize = (12, 6))\n",
    "plt.xticks(range(len(counts)), class_names)\n",
    "plt.bar(range(len(counts)), counts) #, color=\"blue\")"
   ]
  },
  {
   "cell_type": "markdown",
   "metadata": {},
   "source": [
    "## データセットの作成"
   ]
  },
  {
   "cell_type": "code",
   "execution_count": 9,
   "metadata": {},
   "outputs": [],
   "source": [
    "class load_data():\n",
    "    def __init__(self):\n",
    "        self.data = [] # 画像を格納するlist．後にarrayに変換．\n",
    "        self.target = [] # ラベルを格納するlist．後にarrayに変換．\n",
    "        self.target_names = np.array([\"fu\", \"gin\", \"hisya\", \"kaku\", \"kei\", \"kin\", \"kyo\", \"ou\"]) # 成り駒以外の8種類\n",
    "        self.main()\n",
    "        \n",
    "    # zipファイルを， zipファイルが存在するディレクトリで展開する関数\n",
    "    def extract_zip(self, dir_path, file_name): # dir_path：zipファイルが存在するディレクトリへのパス， file_name：zipファイルの名前\n",
    "        with ZipFile(dir_path + file_name, \"r\") as z:\n",
    "            z.extractall(dir_path)\n",
    "        \n",
    "    # pickleファイルのデータを返す関数\n",
    "    def load_pickle(self, path): # path：pickleファイルへのパス\n",
    "        with open(path, \"rb\") as f:\n",
    "            return  pickle.load(f)\n",
    "            \n",
    "    # pickle化する関数\n",
    "    def dump_pickle(self, path, data): # path：作成するpickleファイルへのパス， data：pickle化するデータ\n",
    "        with open(path, \"wb\") as f:\n",
    "            pickle.dump(data, f)\n",
    "\n",
    "    # 生データからデータセットを作る関数(trainとtestの分け方はランダム)\n",
    "    def make_dataset(self, size=(64, 80)):\n",
    "        \n",
    "        # 生データが存在するディレクトリへのパス\n",
    "        dir_path = \"../dataset/image/annotation_koma_merge/\"\n",
    "        \n",
    "        # 各クラスごとに， 画像をself.dataに、ラベルをself.targetに格納する。\n",
    "        for target, target_name in enumerate(self.target_names):\n",
    "            \n",
    "            # 画像へのパスを作成\n",
    "            data_paths = glob.glob(dir_path + target_name + \"/*\") \n",
    "\n",
    "            # 格納\n",
    "            for data_path in data_paths:\n",
    "                self.data.append(np.array(Image.open(data_path).resize(size))[:, :, :3]) # 4channel目は無視．\n",
    "                self.target.append(target)\n",
    "\n",
    "        # Arrayに変換\n",
    "        self.data = np.array(self.data)\n",
    "        self.target = np.array(self.target)\n",
    "    \n",
    "    def main(self):\n",
    "        \n",
    "        # pickleのzipしかなければ解凍する\n",
    "        if (\"../dataset/pickle.zip\" in glob.glob(\"../dataset/*\")) and \"../dataset/pickle\" not in glob.glob(\"../dataset/*\"):\n",
    "            self.extract_zip(dir_path=\"../dataset/\", file_name=\"pickle.zip\")\n",
    "        \n",
    "        # pickleファイルがあればそこから読み込む\n",
    "        elif \"../dataset/pickle\" in glob.glob(\"../dataset/*\"):\n",
    "            self.data = self.load_pickle(\"../dataset/pickle/data.pkl\")\n",
    "            self.target = self.load_pickle(\"../dataset/pickle/target.pkl\")\n",
    "            \n",
    "        # 生データのzipしかなければ解凍する\n",
    "        elif (\"../dataset/image/annotation_koma_merge.zip\" in glob.glob(\"../dataset/image/*\")) and (\"../dataset/image/annotation_koma_merge\" not in glob.glob(\"../dataset/image/*\")):        \n",
    "            self.extract_zip(dir_path=\"../dataset/image/\", file_name=\"annotation_koma_merge.zip\")\n",
    "            \n",
    "        # 生データからデータセットを作成し， pickle化する\n",
    "        elif \"../dataset/image/annotation_koma_merge\" in glob.glob(\"../dataset/image/*\"):\n",
    "            \n",
    "            # データセットを作成\n",
    "            self.make_dataset() \n",
    "            \n",
    "            # pickle化\n",
    "            os.mkdir(path=\"../dataset/pickle\")\n",
    "            self.dump_pickle(path=\"../dataset/pickle/data.pkl\", data=self.data) # 画像データpickle化\n",
    "            self.dump_pickle(path=\"../dataset/pickle/target.pkl\", data=self.target) # ラベルデータをpickle化\n",
    "\n",
    "        else:\n",
    "            print(\"You have no available dataset\")"
   ]
  },
  {
   "cell_type": "code",
   "execution_count": 11,
   "metadata": {
    "scrolled": true
   },
   "outputs": [],
   "source": [
    "koma = load_data()\n",
    "x = koma.data\n",
    "y = koma.target"
   ]
  },
  {
   "cell_type": "code",
   "execution_count": 12,
   "metadata": {},
   "outputs": [
    {
     "name": "stdout",
     "output_type": "stream",
     "text": [
      "x_train: (38532, 80, 64, 3)\n",
      "y_train: (38532,)\n",
      "x_test: (16515, 80, 64, 3)\n",
      "y_test: (16515,)\n"
     ]
    }
   ],
   "source": [
    "x_train, x_test, y_train, y_test = train_test_split(x, y, test_size=0.3, random_state=42)\n",
    "print(\"x_train:\", x_train.shape)\n",
    "print(\"y_train:\", y_train.shape)\n",
    "print(\"x_test:\", x_test.shape)\n",
    "print(\"y_test:\", y_test.shape)"
   ]
  }
 ],
 "metadata": {
  "kernelspec": {
   "display_name": "Python 3",
   "language": "python",
   "name": "python3"
  },
  "language_info": {
   "codemirror_mode": {
    "name": "ipython",
    "version": 3
   },
   "file_extension": ".py",
   "mimetype": "text/x-python",
   "name": "python",
   "nbconvert_exporter": "python",
   "pygments_lexer": "ipython3",
   "version": "3.5.4"
  }
 },
 "nbformat": 4,
 "nbformat_minor": 2
}
